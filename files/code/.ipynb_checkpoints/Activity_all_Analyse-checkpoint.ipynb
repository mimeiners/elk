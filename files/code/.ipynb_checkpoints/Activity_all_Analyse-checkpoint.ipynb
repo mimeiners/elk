{
 "cells": [
  {
   "cell_type": "markdown",
   "id": "26e6d923",
   "metadata": {},
   "source": [
    "## Dioden IV-Charakterisierung"
   ]
  },
  {
   "cell_type": "code",
   "execution_count": 2,
   "id": "9827516e",
   "metadata": {
    "tags": []
   },
   "outputs": [],
   "source": [
    "# Post-processing der LTspice Simulationsdaten\n",
    "\n",
    "import ltspice\n",
    "import numpy as np\n",
    "import matplotlib.pyplot as plt"
   ]
  },
  {
   "cell_type": "code",
   "execution_count": null,
   "id": "e5be8eb8",
   "metadata": {
    "tags": []
   },
   "outputs": [],
   "source": [
    "# Laden der raw LTspice-Datei in die Python-Arbeitsumgebung\n",
    "\n",
    "# Dateiname für Spice\n",
    "#1N4001: Draft_Diode_1N4001.raw\"\n",
    "#1N4148: Draft_Diode_1N4148.raw\"\n",
    "\n",
    "file = \"../spice/Draft_Diode_1N4148.raw\"\n",
    "raw = ltspice.Ltspice(file)\n",
    "raw.parse()"
   ]
  },
  {
   "cell_type": "code",
   "execution_count": 9,
   "id": "8dd04047",
   "metadata": {},
   "outputs": [
    {
     "name": "stderr",
     "output_type": "stream",
     "text": [
      "Der Befehl \"XVIIx86.exe\" ist entweder falsch geschrieben oder\n",
      "konnte nicht gefunden werden.\n"
     ]
    }
   ],
   "source": [
    "#%%html\n",
    "#<iframe src=\"../spice/Activity_19_1N4001.raw\" width=100%></iframe>\n",
    "#!XVIIx86.exe -b ../spice/Draft_Diode_1N4148.asc"
   ]
  },
  {
   "cell_type": "code",
   "execution_count": 5,
   "id": "6faf9892",
   "metadata": {},
   "outputs": [],
   "source": [
    "#file1 = \"C:/Users/ymele/Downloads/Activity_19_1N4001 (1).raw\"\n",
    "#raw = ltspice.Ltspice(file1)\n",
    "#raw.parse()"
   ]
  },
  {
   "cell_type": "code",
   "execution_count": null,
   "id": "faa3497b",
   "metadata": {
    "lines_to_next_cell": 2,
    "tags": []
   },
   "outputs": [],
   "source": [
    "# Extraktion der Spannungen\n",
    "\n",
    "t = raw.get_time()\n",
    "v_IN1 = raw.get_data('V(in1)')\n",
    "v_IN2 = raw.get_data('V(in2)')\n",
    "i_D = raw.get_data('I(D1)')"
   ]
  },
  {
   "cell_type": "code",
   "execution_count": null,
   "id": "994d6430",
   "metadata": {
    "tags": []
   },
   "outputs": [],
   "source": [
    "# Plots\n",
    "\n",
    "fig, ax1 = plt.subplots()\n",
    "\n",
    "color = 'tab:blue'\n",
    "ax1.set_xlabel('Zeit t in ms')\n",
    "ax1.set_ylabel('Spannung in V', color=color)\n",
    "ax1.plot(t * 1e3, v_IN1, color=color, label=r'$v_{IN1}(t)$')\n",
    "ax1.plot(t * 1e3,\n",
    "         v_IN2,\n",
    "         color=color,\n",
    "         linestyle='dashed',\n",
    "         label=r'$v_{IN2}(t)$')\n",
    "ax1.tick_params(axis='y', labelcolor=color)\n",
    "ax1.grid()\n",
    "\n",
    "# Zweite y-Achse\n",
    "ax2 = ax1.twinx()\n",
    "\n",
    "# Achsenbeschriftung ax2\n",
    "color = 'tab:red'\n",
    "ax2.set_ylabel(r'Strom in $\\mu$A', color=color)\n",
    "ax2.plot(t * 1e3, i_D * 1e6, color=color, label=r'$i_D(t)$')\n",
    "ax2.tick_params(axis='y', labelcolor=color)\n",
    "\n",
    "# Gemeinsame Legende für beide Achsen\n",
    "lines1, labels1 = ax1.get_legend_handles_labels()\n",
    "lines2, labels2 = ax2.get_legend_handles_labels()\n",
    "ax2.legend(lines1 + lines2, labels1 + labels2, loc=0)\n",
    "\n",
    "# Passt die zweite y-Achse an\n",
    "fig.tight_layout()\n",
    "plt.show()"
   ]
  },
  {
   "cell_type": "code",
   "execution_count": null,
   "id": "e266220d",
   "metadata": {},
   "outputs": [],
   "source": [
    "# PLot IV-Kennlinie (Diodenstrom als Funktion der Diodenspannung)\n",
    "\n",
    "plt.figure(2)\n",
    "#plt.figure(figsize = (12, 6))\n",
    "plt.title(\"IV-Charakteristik in Spice\")\n",
    "plt.plot(v_IN2, i_D* 1e6, \"blue\")\n",
    "plt.xlabel(\"Diodenspannung (IN2) in V\")\n",
    "plt.ylabel(\"Diodenstrom (MATH) in µA\")\n",
    "plt.grid()\n",
    "plt.show()"
   ]
  },
  {
   "cell_type": "markdown",
   "id": "7914369b",
   "metadata": {},
   "source": [
    "## Der BJT als Diode"
   ]
  },
  {
   "cell_type": "code",
   "execution_count": null,
   "id": "3837287e",
   "metadata": {},
   "outputs": [],
   "source": [
    "# Post-processing der LTspice Simulationsdaten\n",
    "\n",
    "import ltspice\n",
    "import numpy as np\n",
    "import matplotlib.pyplot as plt"
   ]
  },
  {
   "cell_type": "code",
   "execution_count": null,
   "id": "2872c896",
   "metadata": {},
   "outputs": [],
   "source": [
    "# Laden der raw LTspice-Datei in die Python-Arbeitsumgebung\n",
    "\n",
    "# Dateiname für Spice\n",
    "#2N3904: Draft_npn-Transistor_als_Diode.raw\n",
    "#2N3906: Draft_pnp-Transistor_als_Diode.raw\n",
    "\n",
    "file = \"../spice/Draft_npn-Transistor_als_Diode.raw\"\n",
    "raw = ltspice.Ltspice(file)\n",
    "raw.parse()"
   ]
  },
  {
   "cell_type": "code",
   "execution_count": null,
   "id": "5f95749f",
   "metadata": {},
   "outputs": [],
   "source": [
    "# Extraktion der Spannungen\n",
    "\n",
    "t = raw.get_time()\n",
    "v_IN1 = raw.get_data('V(in1)')\n",
    "v_IN2 = raw.get_data('V(in2)')\n",
    "i_D = raw.get_data('I(R3)')"
   ]
  },
  {
   "cell_type": "code",
   "execution_count": null,
   "id": "dc6d7ebd",
   "metadata": {},
   "outputs": [],
   "source": [
    "# Plots\n",
    "\n",
    "fig, ax1 = plt.subplots()\n",
    "\n",
    "color = 'tab:blue'\n",
    "ax1.set_xlabel('Zeit t in ms')\n",
    "ax1.set_ylabel('Spannung in V', color=color)\n",
    "ax1.plot(t * 1e3, v_IN1, color=color, label=r'$v_{IN1}(t)$')\n",
    "ax1.plot(t * 1e3,\n",
    "         v_IN2,\n",
    "         color=color,\n",
    "         linestyle='dashed',\n",
    "         label=r'$v_{IN2}(t)$')\n",
    "ax1.tick_params(axis='y', labelcolor=color)\n",
    "ax1.grid()\n",
    "\n",
    "# Zweite y-Achse\n",
    "ax2 = ax1.twinx()\n",
    "\n",
    "# Achsenbeschriftung ax2\n",
    "color = 'tab:red'\n",
    "ax2.set_ylabel(r'Strom in $\\mu$A', color=color)\n",
    "ax2.plot(t * 1e3, i_D * 1e6, color=color, label=r'$i_{R3}(t)$')\n",
    "ax2.tick_params(axis='y', labelcolor=color)\n",
    "\n",
    "# Gemeinsame Legende für beide Achsen\n",
    "lines1, labels1 = ax1.get_legend_handles_labels()\n",
    "lines2, labels2 = ax2.get_legend_handles_labels()\n",
    "ax2.legend(lines1 + lines2, labels1 + labels2, loc=0)\n",
    "\n",
    "# Passt die zweite y-Achse an\n",
    "fig.tight_layout()\n",
    "plt.show()"
   ]
  },
  {
   "cell_type": "code",
   "execution_count": null,
   "id": "f734987f",
   "metadata": {},
   "outputs": [],
   "source": [
    "# PLot IV-Kennlinie (Diodenstrom als Funktion der Diodenspannung)\n",
    "\n",
    "plt.figure(2)\n",
    "#plt.figure(figsize = (12, 6))\n",
    "plt.title(\"IV-Charakteristik in Spice\")\n",
    "plt.plot(v_IN2, i_D* 1e6, \"blue\")\n",
    "plt.xlabel(\"Diodenspannung (IN2) in V\")\n",
    "plt.ylabel(\"Diodenstrom (MATH) in µA\")\n",
    "plt.grid()\n",
    "plt.show()"
   ]
  },
  {
   "cell_type": "markdown",
   "id": "d635c3ee",
   "metadata": {},
   "source": [
    "## Der MOSFET als Diode"
   ]
  },
  {
   "cell_type": "code",
   "execution_count": null,
   "id": "c94a34e8",
   "metadata": {},
   "outputs": [],
   "source": [
    "# Post-processing der LTspice Simulationsdaten\n",
    "\n",
    "import ltspice\n",
    "import numpy as np\n",
    "import matplotlib.pyplot as plt"
   ]
  },
  {
   "cell_type": "code",
   "execution_count": null,
   "id": "3cf36dbc",
   "metadata": {},
   "outputs": [],
   "source": [
    "# Laden der raw LTspice-Datei in die Python-Arbeitsumgebung\n",
    "\n",
    "# Dateiname für Spice\n",
    "#BS170:  Draft_nMos-Schaltung_auf_Spice.raw\n",
    "#BS250:  Draft_pMos-Schaltung_auf_Spice.raw\n",
    "\n",
    "file = \"../spice/Draft_nMos-Schaltung_auf_Spice.raw\"\n",
    "raw = ltspice.Ltspice(file)\n",
    "raw.parse()"
   ]
  },
  {
   "cell_type": "code",
   "execution_count": null,
   "id": "faf698a0",
   "metadata": {},
   "outputs": [],
   "source": [
    "# Extraktion der Spannungen\n",
    "\n",
    "t = raw.get_time()\n",
    "v_IN1 = raw.get_data('V(in1)')\n",
    "v_IN2 = raw.get_data('V(in2)')\n",
    "i_D = raw.get_data('I(R3)')"
   ]
  },
  {
   "cell_type": "code",
   "execution_count": null,
   "id": "482581e4",
   "metadata": {},
   "outputs": [],
   "source": [
    "# Plots\n",
    "\n",
    "fig, ax1 = plt.subplots()\n",
    "\n",
    "color = 'tab:blue'\n",
    "ax1.set_xlabel('Zeit t in ms')\n",
    "ax1.set_ylabel('Spannung in V', color=color)\n",
    "ax1.plot(t * 1e3, v_IN1, color=color, label=r'$v_{IN1}(t)$')\n",
    "ax1.plot(t * 1e3,\n",
    "         v_IN2,\n",
    "         color=color,\n",
    "         linestyle='dashed',\n",
    "         label=r'$v_{IN2}(t)$')\n",
    "ax1.tick_params(axis='y', labelcolor=color)\n",
    "ax1.grid()\n",
    "\n",
    "# Zweite y-Achse\n",
    "ax2 = ax1.twinx()\n",
    "\n",
    "# Achsenbeschriftung ax2\n",
    "color = 'tab:red'\n",
    "ax2.set_ylabel(r'Strom in $\\mu$A', color=color)\n",
    "ax2.plot(t * 1e3, i_D * 1e6, color=color, label=r'$i_{R3}(t)$')\n",
    "ax2.tick_params(axis='y', labelcolor=color)\n",
    "\n",
    "# Gemeinsame Legende für beide Achsen\n",
    "lines1, labels1 = ax1.get_legend_handles_labels()\n",
    "lines2, labels2 = ax2.get_legend_handles_labels()\n",
    "ax2.legend(lines1 + lines2, labels1 + labels2, loc=0)\n",
    "\n",
    "# Passt die zweite y-Achse an\n",
    "fig.tight_layout()\n",
    "plt.show()"
   ]
  },
  {
   "cell_type": "code",
   "execution_count": null,
   "id": "f9c8b0cf",
   "metadata": {},
   "outputs": [],
   "source": [
    "# PLot IV-Kennlinie (Diodenstrom als Funktion der Diodenspannung)\n",
    "\n",
    "plt.figure(2)\n",
    "#plt.figure(figsize = (12, 6))\n",
    "plt.title(\"IV-Charakteristik in Spice\")\n",
    "plt.plot(v_IN2, i_D* 1e6, \"blue\")\n",
    "plt.xlabel(\"Diodenspannung (IN2) in V\")\n",
    "plt.ylabel(\"Diodenstrom (MATH) in µA\")\n",
    "plt.grid()\n",
    "plt.show()"
   ]
  },
  {
   "cell_type": "code",
   "execution_count": null,
   "id": "9cd56481",
   "metadata": {},
   "outputs": [],
   "source": []
  }
 ],
 "metadata": {
  "kernelspec": {
   "display_name": "Python 3 (ipykernel)",
   "language": "python",
   "name": "python3"
  },
  "language_info": {
   "codemirror_mode": {
    "name": "ipython",
    "version": 3
   },
   "file_extension": ".py",
   "mimetype": "text/x-python",
   "name": "python",
   "nbconvert_exporter": "python",
   "pygments_lexer": "ipython3",
   "version": "3.11.5"
  }
 },
 "nbformat": 4,
 "nbformat_minor": 5
}
